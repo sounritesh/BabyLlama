{
 "cells": [
  {
   "cell_type": "markdown",
   "metadata": {},
   "source": [
    "# Basic data cleaning and tokenization"
   ]
  },
  {
   "cell_type": "code",
   "execution_count": 21,
   "metadata": {},
   "outputs": [],
   "source": [
    "import pandas as pd\n",
    "from tqdm import tqdm"
   ]
  },
  {
   "cell_type": "code",
   "execution_count": 26,
   "metadata": {},
   "outputs": [
    {
     "name": "stderr",
     "output_type": "stream",
     "text": [
      "1761it [02:37, 11.16it/s]\n"
     ]
    }
   ],
   "source": [
    "chunk_size = 1000\n",
    "for chunk in tqdm(pd.read_csv(\"data/all_thoughts_.csv\", chunksize = chunk_size)):\n",
    "    for i, row in chunk.iterrows():\n",
    "        if isinstance(row[\"c_parent\"], str) and isinstance(row[\"body\"], str):\n",
    "            if row[\"body\"] != '' and row[\"body\"] != ' ' and row[\"body\"] != '  ':\n",
    "                with open(\"data/replies.txt\", \"a\") as r:\n",
    "                    r.write(str(row[\"body\"]) + \"\\n\")\n",
    "        elif isinstance(row[\"c_parent\"], float) and isinstance(row[\"body\"], str):\n",
    "            if row[\"body\"] != '' and row[\"body\"] != ' ' and row[\"body\"] != '  ':\n",
    "                with open(\"data/thoughts.txt\", \"a\") as r:\n",
    "                    r.write(str(row[\"body\"]) + \"\\n\")\n"
   ]
  },
  {
   "cell_type": "code",
   "execution_count": 29,
   "metadata": {},
   "outputs": [
    {
     "name": "stdout",
     "output_type": "stream",
     "text": [
      "Defaulting to user installation because normal site-packages is not writeable\n",
      "Requirement already satisfied: demoji in /Users/riteshsoun/Library/Python/3.9/lib/python/site-packages (1.1.0)\n",
      "\n",
      "\u001b[1m[\u001b[0m\u001b[34;49mnotice\u001b[0m\u001b[1;39;49m]\u001b[0m\u001b[39;49m A new release of pip is available: \u001b[0m\u001b[31;49m23.1.2\u001b[0m\u001b[39;49m -> \u001b[0m\u001b[32;49m23.2.1\u001b[0m\n",
      "\u001b[1m[\u001b[0m\u001b[34;49mnotice\u001b[0m\u001b[1;39;49m]\u001b[0m\u001b[39;49m To update, run: \u001b[0m\u001b[32;49m/Applications/Xcode.app/Contents/Developer/usr/bin/python3 -m pip install --upgrade pip\u001b[0m\n"
     ]
    }
   ],
   "source": [
    "!pip install demoji"
   ]
  },
  {
   "cell_type": "code",
   "execution_count": 30,
   "metadata": {},
   "outputs": [
    {
     "name": "stderr",
     "output_type": "stream",
     "text": [
      "/var/folders/30/1my1d3rn62g8zlxwmd43p1q40000gn/T/ipykernel_6813/2319952594.py:2: FutureWarning: The demoji.download_codes attribute is deprecated and will be removed from demoji in a future version. It is an unused attribute as emoji codes are now distributed directly with the demoji package.\n",
      "  demoji.download_codes()\n"
     ]
    }
   ],
   "source": [
    "import demoji\n",
    "demoji.download_codes()"
   ]
  },
  {
   "cell_type": "code",
   "execution_count": 37,
   "metadata": {},
   "outputs": [
    {
     "data": {
      "text/plain": [
       "'Happy birthday to me\\nCheers to new adventures and life  :handshake:  :nazar amulet: '"
      ]
     },
     "execution_count": 37,
     "metadata": {},
     "output_type": "execute_result"
    }
   ],
   "source": [
    "sample = \"Happy birthday to me\\nCheers to new adventures and life 🤝🧿\"\n",
    "\n",
    "def replace_emoji(text):\n",
    "    emojis = demoji.findall(text)\n",
    "    for k, v in emojis.items():\n",
    "        text = text.replace(k, \" :\" + v + \": \")\n",
    "    return text\n",
    "\n",
    "replace_emoji(sample)"
   ]
  },
  {
   "cell_type": "code",
   "execution_count": null,
   "metadata": {},
   "outputs": [
    {
     "name": "stderr",
     "output_type": "stream",
     "text": [
      "220it [02:16,  2.48it/s]"
     ]
    }
   ],
   "source": [
    "# demojied text\n",
    "\n",
    "chunk_size = 1000\n",
    "for chunk in tqdm(pd.read_csv(\"data/all_thoughts_.csv\", chunksize = chunk_size)):\n",
    "    for i, row in chunk.iterrows():\n",
    "        if isinstance(row[\"c_parent\"], str) and isinstance(row[\"body\"], str):\n",
    "            if row[\"body\"] != '' and row[\"body\"] != ' ' and row[\"body\"] != '  ':\n",
    "                with open(\"data/demojied_replies.txt\", \"a\") as r:\n",
    "                    r.write(replace_emoji(row[\"body\"]) + \"\\n\")\n",
    "        elif isinstance(row[\"c_parent\"], float) and isinstance(row[\"body\"], str):\n",
    "            if row[\"body\"] != '' and row[\"body\"] != ' ' and row[\"body\"] != '  ':\n",
    "                with open(\"data/demojied_thoughts.txt\", \"a\") as r:\n",
    "                    r.write(replace_emoji(row[\"body\"]) + \"\\n\")"
   ]
  },
  {
   "cell_type": "markdown",
   "metadata": {},
   "source": [
    "## Cleaning\n",
    "\n",
    "Some simple, regex-based cleaning is performed on train and dev datasets, e.g. to remove HTML tags from Wikipedia articles, non-verbal cues from subtitles, or even to correct I’s that were incorrectly recognized as l’s in OCR’ed uppercase text."
   ]
  },
  {
   "cell_type": "code",
   "execution_count": 1,
   "metadata": {},
   "outputs": [],
   "source": [
    "from pathlib import Path\n",
    "from mrclean import *"
   ]
  },
  {
   "cell_type": "code",
   "execution_count": 2,
   "metadata": {},
   "outputs": [],
   "source": [
    "DATA_ROOT = Path(\"./\")\n",
    "SEQ_LENGTH = 128 # this is a legacy parameter, it does not affect cleaning\n",
    "DATA_SPLITS = ['babylm_10M', 'babylm_dev']\n",
    "\n",
    "CLEANUP_FUNCTIONS = {\n",
    "    'aochildes': cleanup_aochildes,\n",
    "    'bnc_spoken': cleanup_bnc_spoken,\n",
    "    'cbt': cleanup_cbt,\n",
    "    'children_stories': cleanup_children_stories,\n",
    "    'gutenberg': cleanup_gutenberg,\n",
    "    'open_subtitles': cleanup_open_subtitles,\n",
    "    'qed': cleanup_qed,\n",
    "    'simple_wikipedia': cleanup_simple_wikipedia,\n",
    "    'switchboard': cleanup_switchboard,\n",
    "    'wikipedia': cleanup_wikipedia,\n",
    "}\n"
   ]
  },
  {
   "cell_type": "code",
   "execution_count": 4,
   "metadata": {},
   "outputs": [
    {
     "name": "stdout",
     "output_type": "stream",
     "text": [
      "🧹 Cleaned 'open_subtitles.train' (size 16433872 -> 16431168) in babylm_10M\n",
      "🧹 Cleaned 'qed.train' (size 5781992 -> 5682028) in babylm_10M\n",
      "🧹 Cleaned 'bnc_spoken.train' (size 4493818 -> 4463546) in babylm_10M\n",
      "🧹 Cleaned 'wikipedia.train' (size 6065862 -> 6008082) in babylm_10M\n",
      "🧹 Cleaned 'gutenberg.train' (size 5745126 -> 5745126) in babylm_10M\n",
      "🧹 Cleaned 'aochildes.train' (size 1900547 -> 1820547) in babylm_10M\n",
      "🧹 Cleaned 'simple_wikipedia.train' (size 9087222 -> 9064456) in babylm_10M\n",
      "🧹 Cleaned 'children_stories.train' (size 1797174 -> 1797174) in babylm_10M\n",
      "🧹 Cleaned 'cbt.train' (size 2627694 -> 2554890) in babylm_10M\n",
      "🧹 Cleaned 'switchboard.train' (size 601050 -> 601050) in babylm_10M\n",
      "🧹 Cleaned 'simple_wikipedia.dev' (size 9396525 -> 9368481) in babylm_dev\n",
      "🧹 Cleaned 'switchboard.dev' (size 670013 -> 670013) in babylm_dev\n",
      "🧹 Cleaned 'qed.dev' (size 5390732 -> 5295754) in babylm_dev\n",
      "🧹 Cleaned 'open_subtitles.dev' (size 15724635 -> 15722583) in babylm_dev\n",
      "🧹 Cleaned 'gutenberg.dev' (size 4893965 -> 4893965) in babylm_dev\n",
      "🧹 Cleaned 'wikipedia.dev' (size 7007380 -> 6937866) in babylm_dev\n",
      "🧹 Cleaned 'aochildes.dev' (size 1777198 -> 1707198) in babylm_dev\n",
      "🧹 Cleaned 'cbt.dev' (size 1182610 -> 1152267) in babylm_dev\n",
      "🧹 Cleaned 'children_stories.dev' (size 1382334 -> 1382334) in babylm_dev\n",
      "🧹 Cleaned 'bnc_spoken.dev' (size 4451820 -> 4429688) in babylm_dev\n"
     ]
    }
   ],
   "source": [
    "for split in DATA_SPLITS:\n",
    "    INPUT_DIR = DATA_ROOT / 'data' / split\n",
    "    OUTPUT_DIR = DATA_ROOT / 'data' / f'{split}_clean'\n",
    "    \n",
    "    OUTPUT_DIR.mkdir(exist_ok=True)\n",
    "\n",
    "    train_files = [f for f in INPUT_DIR.iterdir() if f.is_file() and f.suffix in ['.train', '.dev']]\n",
    "    \n",
    "    for file in train_files:\n",
    "        text = file.read_text()\n",
    "        cleaned_text = CLEANUP_FUNCTIONS[file.stem](text, SEQ_LENGTH)\n",
    "        (OUTPUT_DIR / file.name).write_text(cleaned_text)\n",
    "        print(f\"🧹 Cleaned '{file.name}' (size {len(text)} -> {len(cleaned_text)}) in {split}\")\n"
   ]
  },
  {
   "cell_type": "markdown",
   "metadata": {},
   "source": [
    "## Training a tokenizer"
   ]
  },
  {
   "cell_type": "code",
   "execution_count": 4,
   "metadata": {},
   "outputs": [],
   "source": [
    "from pathlib import Path\n",
    "from tokenizers import (Tokenizer, decoders, models, pre_tokenizers,\n",
    "                        processors, trainers)\n",
    "from tokenizers.normalizers import NFKC"
   ]
  },
  {
   "cell_type": "code",
   "execution_count": 7,
   "metadata": {},
   "outputs": [
    {
     "name": "stdout",
     "output_type": "stream",
     "text": [
      "10\n"
     ]
    }
   ],
   "source": [
    "# We train the tokenizer on the train data only\n",
    "data_dir = Path(\"./data/babylm_10M_clean/\")\n",
    "\n",
    "paths = [str(f) for f in data_dir.glob(\"*\") if f.is_file() and not f.name.endswith(\".DS_Store\") and f.suffix in [\".train\"]]\n",
    "\n",
    "# paths\n",
    "print(len(paths))\n",
    "assert len(paths) > 0, 'No data files found'"
   ]
  },
  {
   "cell_type": "code",
   "execution_count": 8,
   "metadata": {},
   "outputs": [],
   "source": [
    "tokenizer = Tokenizer(models.BPE())\n",
    "\n",
    "tokenizer.pre_tokenizer = pre_tokenizers.ByteLevel(add_prefix_space=True)\n",
    "tokenizer.decoder = decoders.ByteLevel()\n",
    "tokenizer.post_processor = processors.ByteLevel(trim_offsets=True)\n",
    "tokenizer.normalizer = NFKC()"
   ]
  },
  {
   "cell_type": "code",
   "execution_count": 9,
   "metadata": {},
   "outputs": [
    {
     "name": "stdout",
     "output_type": "stream",
     "text": [
      "\n",
      "\n",
      "\n"
     ]
    }
   ],
   "source": [
    "trainer = trainers.BpeTrainer(vocab_size=16000, min_frequency=2, special_tokens=[\"<pad>\", \"<s>\", \"</s>\"])\n",
    "tokenizer.train(paths, trainer)"
   ]
  },
  {
   "cell_type": "code",
   "execution_count": 14,
   "metadata": {},
   "outputs": [],
   "source": [
    "tokenizer_path =  DATA_ROOT / \"models/gpt-clean-16000.json\"\n",
    "tokenizer.save(str(tokenizer_path), pretty=True)"
   ]
  },
  {
   "cell_type": "markdown",
   "metadata": {},
   "source": [
    "## Testing the tokenizer"
   ]
  },
  {
   "cell_type": "code",
   "execution_count": 18,
   "metadata": {},
   "outputs": [
    {
     "name": "stdout",
     "output_type": "stream",
     "text": [
      "Encoded String: ['ĠThe', 'Ġquick', 'Ġbrown', 'Ġfox', 'Ġj', 'umps', 'Ġover', 'Ġthe', 'Ġlazy', 'Ġdog', '.']\n",
      "Encoded IDs: [295, 1993, 4629, 9277, 366, 8876, 574, 210, 12889, 2415, 16]\n",
      "Decoded String:  The quick brown fox jumps over the lazy dog.\n"
     ]
    }
   ],
   "source": [
    "\n",
    "tokenizer = Tokenizer.from_file(str(tokenizer_path))\n",
    "\n",
    "\n",
    "# text = 'Shiro Okada (岡田志郎, \"Okada Shirō\", June 9, 1949; Hirakata, Osaka {age 71} - ) is a Japanese guitarist who participate in the Group Sound band, the Ox. His nickname was Shiro (シロー) and his real name is Shiro Okamoto (岡田史郎).'\n",
    "text = \"The quick brown fox jumps over the lazy dog.\"\n",
    "\n",
    "encoded = tokenizer.encode(text)\n",
    "print(f\"Encoded String: {encoded.tokens}\")\n",
    "\n",
    "print(f\"Encoded IDs: {encoded.ids}\")\n",
    "\n",
    "decoded = tokenizer.decode(encoded.ids)\n",
    "print(f\"Decoded String: {decoded}\")\n"
   ]
  },
  {
   "cell_type": "code",
   "execution_count": null,
   "metadata": {},
   "outputs": [],
   "source": []
  }
 ],
 "metadata": {
  "kernelspec": {
   "display_name": "Python 3 (ipykernel)",
   "language": "python",
   "name": "python3"
  },
  "language_info": {
   "codemirror_mode": {
    "name": "ipython",
    "version": 3
   },
   "file_extension": ".py",
   "mimetype": "text/x-python",
   "name": "python",
   "nbconvert_exporter": "python",
   "pygments_lexer": "ipython3",
   "version": "3.9.6"
  }
 },
 "nbformat": 4,
 "nbformat_minor": 2
}
